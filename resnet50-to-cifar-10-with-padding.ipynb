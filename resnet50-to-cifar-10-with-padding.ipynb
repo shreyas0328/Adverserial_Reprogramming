{
  "nbformat": 4,
  "nbformat_minor": 0,
  "metadata": {
    "colab": {
      "provenance": [],
      "authorship_tag": "ABX9TyNE+nSE8GRmJ1GaWQPIf7Xc",
      "include_colab_link": true
    },
    "kernelspec": {
      "name": "python3",
      "display_name": "Python 3"
    },
    "language_info": {
      "name": "python"
    },
    "accelerator": "GPU",
    "gpuClass": "standard",
    "widgets": {
      "application/vnd.jupyter.widget-state+json": {
        "2bc23a5b866c458a82e587cea3753387": {
          "model_module": "@jupyter-widgets/controls",
          "model_name": "HBoxModel",
          "model_module_version": "1.5.0",
          "state": {
            "_dom_classes": [],
            "_model_module": "@jupyter-widgets/controls",
            "_model_module_version": "1.5.0",
            "_model_name": "HBoxModel",
            "_view_count": null,
            "_view_module": "@jupyter-widgets/controls",
            "_view_module_version": "1.5.0",
            "_view_name": "HBoxView",
            "box_style": "",
            "children": [
              "IPY_MODEL_b26acc6950bd42d1a19f76aea6ad292d",
              "IPY_MODEL_06156c82515c4e7ba5868ad55f1882ba",
              "IPY_MODEL_e60ae5674dfa4073b15995f6dcfd1335"
            ],
            "layout": "IPY_MODEL_4a2b65dbba144fa489066384b89999cb"
          }
        },
        "b26acc6950bd42d1a19f76aea6ad292d": {
          "model_module": "@jupyter-widgets/controls",
          "model_name": "HTMLModel",
          "model_module_version": "1.5.0",
          "state": {
            "_dom_classes": [],
            "_model_module": "@jupyter-widgets/controls",
            "_model_module_version": "1.5.0",
            "_model_name": "HTMLModel",
            "_view_count": null,
            "_view_module": "@jupyter-widgets/controls",
            "_view_module_version": "1.5.0",
            "_view_name": "HTMLView",
            "description": "",
            "description_tooltip": null,
            "layout": "IPY_MODEL_25bbdd3b8dd84a3f8ef37d102874a9f9",
            "placeholder": "​",
            "style": "IPY_MODEL_b21230a02cc74c94a5f5329c0480d843",
            "value": "100%"
          }
        },
        "06156c82515c4e7ba5868ad55f1882ba": {
          "model_module": "@jupyter-widgets/controls",
          "model_name": "FloatProgressModel",
          "model_module_version": "1.5.0",
          "state": {
            "_dom_classes": [],
            "_model_module": "@jupyter-widgets/controls",
            "_model_module_version": "1.5.0",
            "_model_name": "FloatProgressModel",
            "_view_count": null,
            "_view_module": "@jupyter-widgets/controls",
            "_view_module_version": "1.5.0",
            "_view_name": "ProgressView",
            "bar_style": "success",
            "description": "",
            "description_tooltip": null,
            "layout": "IPY_MODEL_6224be26f8aa42c9b26cebe3368dd100",
            "max": 170498071,
            "min": 0,
            "orientation": "horizontal",
            "style": "IPY_MODEL_c5aef6560c1440b1aa85b823df4ede34",
            "value": 170498071
          }
        },
        "e60ae5674dfa4073b15995f6dcfd1335": {
          "model_module": "@jupyter-widgets/controls",
          "model_name": "HTMLModel",
          "model_module_version": "1.5.0",
          "state": {
            "_dom_classes": [],
            "_model_module": "@jupyter-widgets/controls",
            "_model_module_version": "1.5.0",
            "_model_name": "HTMLModel",
            "_view_count": null,
            "_view_module": "@jupyter-widgets/controls",
            "_view_module_version": "1.5.0",
            "_view_name": "HTMLView",
            "description": "",
            "description_tooltip": null,
            "layout": "IPY_MODEL_ef42984bfb0a4750925145b481c3c606",
            "placeholder": "​",
            "style": "IPY_MODEL_dc2c42291d1247a3b7ef7ef8ec4c3c3e",
            "value": " 170498071/170498071 [00:02&lt;00:00, 74408122.59it/s]"
          }
        },
        "4a2b65dbba144fa489066384b89999cb": {
          "model_module": "@jupyter-widgets/base",
          "model_name": "LayoutModel",
          "model_module_version": "1.2.0",
          "state": {
            "_model_module": "@jupyter-widgets/base",
            "_model_module_version": "1.2.0",
            "_model_name": "LayoutModel",
            "_view_count": null,
            "_view_module": "@jupyter-widgets/base",
            "_view_module_version": "1.2.0",
            "_view_name": "LayoutView",
            "align_content": null,
            "align_items": null,
            "align_self": null,
            "border": null,
            "bottom": null,
            "display": null,
            "flex": null,
            "flex_flow": null,
            "grid_area": null,
            "grid_auto_columns": null,
            "grid_auto_flow": null,
            "grid_auto_rows": null,
            "grid_column": null,
            "grid_gap": null,
            "grid_row": null,
            "grid_template_areas": null,
            "grid_template_columns": null,
            "grid_template_rows": null,
            "height": null,
            "justify_content": null,
            "justify_items": null,
            "left": null,
            "margin": null,
            "max_height": null,
            "max_width": null,
            "min_height": null,
            "min_width": null,
            "object_fit": null,
            "object_position": null,
            "order": null,
            "overflow": null,
            "overflow_x": null,
            "overflow_y": null,
            "padding": null,
            "right": null,
            "top": null,
            "visibility": null,
            "width": null
          }
        },
        "25bbdd3b8dd84a3f8ef37d102874a9f9": {
          "model_module": "@jupyter-widgets/base",
          "model_name": "LayoutModel",
          "model_module_version": "1.2.0",
          "state": {
            "_model_module": "@jupyter-widgets/base",
            "_model_module_version": "1.2.0",
            "_model_name": "LayoutModel",
            "_view_count": null,
            "_view_module": "@jupyter-widgets/base",
            "_view_module_version": "1.2.0",
            "_view_name": "LayoutView",
            "align_content": null,
            "align_items": null,
            "align_self": null,
            "border": null,
            "bottom": null,
            "display": null,
            "flex": null,
            "flex_flow": null,
            "grid_area": null,
            "grid_auto_columns": null,
            "grid_auto_flow": null,
            "grid_auto_rows": null,
            "grid_column": null,
            "grid_gap": null,
            "grid_row": null,
            "grid_template_areas": null,
            "grid_template_columns": null,
            "grid_template_rows": null,
            "height": null,
            "justify_content": null,
            "justify_items": null,
            "left": null,
            "margin": null,
            "max_height": null,
            "max_width": null,
            "min_height": null,
            "min_width": null,
            "object_fit": null,
            "object_position": null,
            "order": null,
            "overflow": null,
            "overflow_x": null,
            "overflow_y": null,
            "padding": null,
            "right": null,
            "top": null,
            "visibility": null,
            "width": null
          }
        },
        "b21230a02cc74c94a5f5329c0480d843": {
          "model_module": "@jupyter-widgets/controls",
          "model_name": "DescriptionStyleModel",
          "model_module_version": "1.5.0",
          "state": {
            "_model_module": "@jupyter-widgets/controls",
            "_model_module_version": "1.5.0",
            "_model_name": "DescriptionStyleModel",
            "_view_count": null,
            "_view_module": "@jupyter-widgets/base",
            "_view_module_version": "1.2.0",
            "_view_name": "StyleView",
            "description_width": ""
          }
        },
        "6224be26f8aa42c9b26cebe3368dd100": {
          "model_module": "@jupyter-widgets/base",
          "model_name": "LayoutModel",
          "model_module_version": "1.2.0",
          "state": {
            "_model_module": "@jupyter-widgets/base",
            "_model_module_version": "1.2.0",
            "_model_name": "LayoutModel",
            "_view_count": null,
            "_view_module": "@jupyter-widgets/base",
            "_view_module_version": "1.2.0",
            "_view_name": "LayoutView",
            "align_content": null,
            "align_items": null,
            "align_self": null,
            "border": null,
            "bottom": null,
            "display": null,
            "flex": null,
            "flex_flow": null,
            "grid_area": null,
            "grid_auto_columns": null,
            "grid_auto_flow": null,
            "grid_auto_rows": null,
            "grid_column": null,
            "grid_gap": null,
            "grid_row": null,
            "grid_template_areas": null,
            "grid_template_columns": null,
            "grid_template_rows": null,
            "height": null,
            "justify_content": null,
            "justify_items": null,
            "left": null,
            "margin": null,
            "max_height": null,
            "max_width": null,
            "min_height": null,
            "min_width": null,
            "object_fit": null,
            "object_position": null,
            "order": null,
            "overflow": null,
            "overflow_x": null,
            "overflow_y": null,
            "padding": null,
            "right": null,
            "top": null,
            "visibility": null,
            "width": null
          }
        },
        "c5aef6560c1440b1aa85b823df4ede34": {
          "model_module": "@jupyter-widgets/controls",
          "model_name": "ProgressStyleModel",
          "model_module_version": "1.5.0",
          "state": {
            "_model_module": "@jupyter-widgets/controls",
            "_model_module_version": "1.5.0",
            "_model_name": "ProgressStyleModel",
            "_view_count": null,
            "_view_module": "@jupyter-widgets/base",
            "_view_module_version": "1.2.0",
            "_view_name": "StyleView",
            "bar_color": null,
            "description_width": ""
          }
        },
        "ef42984bfb0a4750925145b481c3c606": {
          "model_module": "@jupyter-widgets/base",
          "model_name": "LayoutModel",
          "model_module_version": "1.2.0",
          "state": {
            "_model_module": "@jupyter-widgets/base",
            "_model_module_version": "1.2.0",
            "_model_name": "LayoutModel",
            "_view_count": null,
            "_view_module": "@jupyter-widgets/base",
            "_view_module_version": "1.2.0",
            "_view_name": "LayoutView",
            "align_content": null,
            "align_items": null,
            "align_self": null,
            "border": null,
            "bottom": null,
            "display": null,
            "flex": null,
            "flex_flow": null,
            "grid_area": null,
            "grid_auto_columns": null,
            "grid_auto_flow": null,
            "grid_auto_rows": null,
            "grid_column": null,
            "grid_gap": null,
            "grid_row": null,
            "grid_template_areas": null,
            "grid_template_columns": null,
            "grid_template_rows": null,
            "height": null,
            "justify_content": null,
            "justify_items": null,
            "left": null,
            "margin": null,
            "max_height": null,
            "max_width": null,
            "min_height": null,
            "min_width": null,
            "object_fit": null,
            "object_position": null,
            "order": null,
            "overflow": null,
            "overflow_x": null,
            "overflow_y": null,
            "padding": null,
            "right": null,
            "top": null,
            "visibility": null,
            "width": null
          }
        },
        "dc2c42291d1247a3b7ef7ef8ec4c3c3e": {
          "model_module": "@jupyter-widgets/controls",
          "model_name": "DescriptionStyleModel",
          "model_module_version": "1.5.0",
          "state": {
            "_model_module": "@jupyter-widgets/controls",
            "_model_module_version": "1.5.0",
            "_model_name": "DescriptionStyleModel",
            "_view_count": null,
            "_view_module": "@jupyter-widgets/base",
            "_view_module_version": "1.2.0",
            "_view_name": "StyleView",
            "description_width": ""
          }
        },
        "6f5ef4fa6442433c98f78207c3c7f2cf": {
          "model_module": "@jupyter-widgets/controls",
          "model_name": "HBoxModel",
          "model_module_version": "1.5.0",
          "state": {
            "_dom_classes": [],
            "_model_module": "@jupyter-widgets/controls",
            "_model_module_version": "1.5.0",
            "_model_name": "HBoxModel",
            "_view_count": null,
            "_view_module": "@jupyter-widgets/controls",
            "_view_module_version": "1.5.0",
            "_view_name": "HBoxView",
            "box_style": "",
            "children": [
              "IPY_MODEL_b88898b2ed6b4cf1b8dfce5a031afbcf",
              "IPY_MODEL_699b87ecd9084cb2b98f4a045a9c99fb",
              "IPY_MODEL_a03ba87fb3344cb98efb837d71ce42d6"
            ],
            "layout": "IPY_MODEL_bb38bdd0192b4cfc8bbbaaae98edbfbb"
          }
        },
        "b88898b2ed6b4cf1b8dfce5a031afbcf": {
          "model_module": "@jupyter-widgets/controls",
          "model_name": "HTMLModel",
          "model_module_version": "1.5.0",
          "state": {
            "_dom_classes": [],
            "_model_module": "@jupyter-widgets/controls",
            "_model_module_version": "1.5.0",
            "_model_name": "HTMLModel",
            "_view_count": null,
            "_view_module": "@jupyter-widgets/controls",
            "_view_module_version": "1.5.0",
            "_view_name": "HTMLView",
            "description": "",
            "description_tooltip": null,
            "layout": "IPY_MODEL_8604e20d741d49479ff66ed274fa1637",
            "placeholder": "​",
            "style": "IPY_MODEL_123eb0f9ed3e488d8f206f4659cf3d2b",
            "value": "100%"
          }
        },
        "699b87ecd9084cb2b98f4a045a9c99fb": {
          "model_module": "@jupyter-widgets/controls",
          "model_name": "FloatProgressModel",
          "model_module_version": "1.5.0",
          "state": {
            "_dom_classes": [],
            "_model_module": "@jupyter-widgets/controls",
            "_model_module_version": "1.5.0",
            "_model_name": "FloatProgressModel",
            "_view_count": null,
            "_view_module": "@jupyter-widgets/controls",
            "_view_module_version": "1.5.0",
            "_view_name": "ProgressView",
            "bar_style": "success",
            "description": "",
            "description_tooltip": null,
            "layout": "IPY_MODEL_96142761b2f24a699982fe43452df0cc",
            "max": 108949747,
            "min": 0,
            "orientation": "horizontal",
            "style": "IPY_MODEL_b6ce5e0a695e4c5ea4c8e89c782c5038",
            "value": 108949747
          }
        },
        "a03ba87fb3344cb98efb837d71ce42d6": {
          "model_module": "@jupyter-widgets/controls",
          "model_name": "HTMLModel",
          "model_module_version": "1.5.0",
          "state": {
            "_dom_classes": [],
            "_model_module": "@jupyter-widgets/controls",
            "_model_module_version": "1.5.0",
            "_model_name": "HTMLModel",
            "_view_count": null,
            "_view_module": "@jupyter-widgets/controls",
            "_view_module_version": "1.5.0",
            "_view_name": "HTMLView",
            "description": "",
            "description_tooltip": null,
            "layout": "IPY_MODEL_7e96855abfee49db9f739f0d2197af19",
            "placeholder": "​",
            "style": "IPY_MODEL_b7c56eecee404447a3890bc2257a693c",
            "value": " 104M/104M [00:00&lt;00:00, 194MB/s]"
          }
        },
        "bb38bdd0192b4cfc8bbbaaae98edbfbb": {
          "model_module": "@jupyter-widgets/base",
          "model_name": "LayoutModel",
          "model_module_version": "1.2.0",
          "state": {
            "_model_module": "@jupyter-widgets/base",
            "_model_module_version": "1.2.0",
            "_model_name": "LayoutModel",
            "_view_count": null,
            "_view_module": "@jupyter-widgets/base",
            "_view_module_version": "1.2.0",
            "_view_name": "LayoutView",
            "align_content": null,
            "align_items": null,
            "align_self": null,
            "border": null,
            "bottom": null,
            "display": null,
            "flex": null,
            "flex_flow": null,
            "grid_area": null,
            "grid_auto_columns": null,
            "grid_auto_flow": null,
            "grid_auto_rows": null,
            "grid_column": null,
            "grid_gap": null,
            "grid_row": null,
            "grid_template_areas": null,
            "grid_template_columns": null,
            "grid_template_rows": null,
            "height": null,
            "justify_content": null,
            "justify_items": null,
            "left": null,
            "margin": null,
            "max_height": null,
            "max_width": null,
            "min_height": null,
            "min_width": null,
            "object_fit": null,
            "object_position": null,
            "order": null,
            "overflow": null,
            "overflow_x": null,
            "overflow_y": null,
            "padding": null,
            "right": null,
            "top": null,
            "visibility": null,
            "width": null
          }
        },
        "8604e20d741d49479ff66ed274fa1637": {
          "model_module": "@jupyter-widgets/base",
          "model_name": "LayoutModel",
          "model_module_version": "1.2.0",
          "state": {
            "_model_module": "@jupyter-widgets/base",
            "_model_module_version": "1.2.0",
            "_model_name": "LayoutModel",
            "_view_count": null,
            "_view_module": "@jupyter-widgets/base",
            "_view_module_version": "1.2.0",
            "_view_name": "LayoutView",
            "align_content": null,
            "align_items": null,
            "align_self": null,
            "border": null,
            "bottom": null,
            "display": null,
            "flex": null,
            "flex_flow": null,
            "grid_area": null,
            "grid_auto_columns": null,
            "grid_auto_flow": null,
            "grid_auto_rows": null,
            "grid_column": null,
            "grid_gap": null,
            "grid_row": null,
            "grid_template_areas": null,
            "grid_template_columns": null,
            "grid_template_rows": null,
            "height": null,
            "justify_content": null,
            "justify_items": null,
            "left": null,
            "margin": null,
            "max_height": null,
            "max_width": null,
            "min_height": null,
            "min_width": null,
            "object_fit": null,
            "object_position": null,
            "order": null,
            "overflow": null,
            "overflow_x": null,
            "overflow_y": null,
            "padding": null,
            "right": null,
            "top": null,
            "visibility": null,
            "width": null
          }
        },
        "123eb0f9ed3e488d8f206f4659cf3d2b": {
          "model_module": "@jupyter-widgets/controls",
          "model_name": "DescriptionStyleModel",
          "model_module_version": "1.5.0",
          "state": {
            "_model_module": "@jupyter-widgets/controls",
            "_model_module_version": "1.5.0",
            "_model_name": "DescriptionStyleModel",
            "_view_count": null,
            "_view_module": "@jupyter-widgets/base",
            "_view_module_version": "1.2.0",
            "_view_name": "StyleView",
            "description_width": ""
          }
        },
        "96142761b2f24a699982fe43452df0cc": {
          "model_module": "@jupyter-widgets/base",
          "model_name": "LayoutModel",
          "model_module_version": "1.2.0",
          "state": {
            "_model_module": "@jupyter-widgets/base",
            "_model_module_version": "1.2.0",
            "_model_name": "LayoutModel",
            "_view_count": null,
            "_view_module": "@jupyter-widgets/base",
            "_view_module_version": "1.2.0",
            "_view_name": "LayoutView",
            "align_content": null,
            "align_items": null,
            "align_self": null,
            "border": null,
            "bottom": null,
            "display": null,
            "flex": null,
            "flex_flow": null,
            "grid_area": null,
            "grid_auto_columns": null,
            "grid_auto_flow": null,
            "grid_auto_rows": null,
            "grid_column": null,
            "grid_gap": null,
            "grid_row": null,
            "grid_template_areas": null,
            "grid_template_columns": null,
            "grid_template_rows": null,
            "height": null,
            "justify_content": null,
            "justify_items": null,
            "left": null,
            "margin": null,
            "max_height": null,
            "max_width": null,
            "min_height": null,
            "min_width": null,
            "object_fit": null,
            "object_position": null,
            "order": null,
            "overflow": null,
            "overflow_x": null,
            "overflow_y": null,
            "padding": null,
            "right": null,
            "top": null,
            "visibility": null,
            "width": null
          }
        },
        "b6ce5e0a695e4c5ea4c8e89c782c5038": {
          "model_module": "@jupyter-widgets/controls",
          "model_name": "ProgressStyleModel",
          "model_module_version": "1.5.0",
          "state": {
            "_model_module": "@jupyter-widgets/controls",
            "_model_module_version": "1.5.0",
            "_model_name": "ProgressStyleModel",
            "_view_count": null,
            "_view_module": "@jupyter-widgets/base",
            "_view_module_version": "1.2.0",
            "_view_name": "StyleView",
            "bar_color": null,
            "description_width": ""
          }
        },
        "7e96855abfee49db9f739f0d2197af19": {
          "model_module": "@jupyter-widgets/base",
          "model_name": "LayoutModel",
          "model_module_version": "1.2.0",
          "state": {
            "_model_module": "@jupyter-widgets/base",
            "_model_module_version": "1.2.0",
            "_model_name": "LayoutModel",
            "_view_count": null,
            "_view_module": "@jupyter-widgets/base",
            "_view_module_version": "1.2.0",
            "_view_name": "LayoutView",
            "align_content": null,
            "align_items": null,
            "align_self": null,
            "border": null,
            "bottom": null,
            "display": null,
            "flex": null,
            "flex_flow": null,
            "grid_area": null,
            "grid_auto_columns": null,
            "grid_auto_flow": null,
            "grid_auto_rows": null,
            "grid_column": null,
            "grid_gap": null,
            "grid_row": null,
            "grid_template_areas": null,
            "grid_template_columns": null,
            "grid_template_rows": null,
            "height": null,
            "justify_content": null,
            "justify_items": null,
            "left": null,
            "margin": null,
            "max_height": null,
            "max_width": null,
            "min_height": null,
            "min_width": null,
            "object_fit": null,
            "object_position": null,
            "order": null,
            "overflow": null,
            "overflow_x": null,
            "overflow_y": null,
            "padding": null,
            "right": null,
            "top": null,
            "visibility": null,
            "width": null
          }
        },
        "b7c56eecee404447a3890bc2257a693c": {
          "model_module": "@jupyter-widgets/controls",
          "model_name": "DescriptionStyleModel",
          "model_module_version": "1.5.0",
          "state": {
            "_model_module": "@jupyter-widgets/controls",
            "_model_module_version": "1.5.0",
            "_model_name": "DescriptionStyleModel",
            "_view_count": null,
            "_view_module": "@jupyter-widgets/base",
            "_view_module_version": "1.2.0",
            "_view_name": "StyleView",
            "description_width": ""
          }
        }
      }
    }
  },
  "cells": [
    {
      "cell_type": "markdown",
      "metadata": {
        "id": "view-in-github",
        "colab_type": "text"
      },
      "source": [
        "<a href=\"https://colab.research.google.com/gist/shreyas0328/84b0c633d38103abeb2bd6a0ff5e5109/resnet50-to-cifar-10-with-padding.ipynb\" target=\"_parent\"><img src=\"https://colab.research.google.com/assets/colab-badge.svg\" alt=\"Open In Colab\"/></a>"
      ]
    },
    {
      "cell_type": "code",
      "execution_count": null,
      "metadata": {
        "id": "PcukfXezg5Z2"
      },
      "outputs": [],
      "source": [
        "import torch\n",
        "import torch.nn as nn\n",
        "from torch.nn import functional as F\n",
        "from torchvision import datasets\n",
        "from torchvision import transforms\n",
        "from torchvision.models.resnet import resnet50\n",
        "from PIL import Image"
      ]
    },
    {
      "cell_type": "code",
      "source": [
        "pimg_size = (224,224) # resnet image size is 224,224\n",
        "img_size = (28,28) #MNIST\n",
        "mask_size = pimg_size #size of masking matrix\n",
        "num_channels = 3 # num channels for resnet\n",
        "batch_size = 20"
      ],
      "metadata": {
        "id": "_HjWAptJi6ZC"
      },
      "execution_count": null,
      "outputs": []
    },
    {
      "cell_type": "code",
      "source": [
        "pad = int((pimg_size[0]-img_size[0])/2) # finding what padding I need on each border of the input image\n",
        "\n",
        "\n",
        "transform = transforms.Compose([\n",
        "    transforms.Pad(padding = [0,0,pad,pad]),\n",
        "    transforms.ToTensor(),\n",
        "    transforms.Normalize(mean=[0.485, 0.456, 0.406],\n",
        "                         std=[0.229, 0.224, 0.225])\n",
        "])\n",
        "# adding padding, normalizing the data, and using lambda to up the num of channels\n",
        "\n",
        "train_dataset = datasets.MNIST(root = 'data/', train=True, transform=transform, download=True) # download  dataset\n",
        "\n",
        "test_dataset = datasets.MNIST(root = 'data/', train=False, transform=transform)\n",
        "\n",
        "\n",
        "train_loader = torch.utils.data.DataLoader(\n",
        "    train_dataset,\n",
        "    batch_size=batch_size, shuffle=True\n",
        ")\n",
        "\n",
        "\n",
        "\n",
        "test_loader = torch.utils.data.DataLoader(\n",
        "    test_dataset,\n",
        "    batch_size=batch_size, shuffle=False\n",
        ")"
      ],
      "metadata": {
        "id": "BQkz8uLCjW9j",
        "colab": {
          "base_uri": "https://localhost:8080/",
          "height": 83,
          "referenced_widgets": [
            "2bc23a5b866c458a82e587cea3753387",
            "b26acc6950bd42d1a19f76aea6ad292d",
            "06156c82515c4e7ba5868ad55f1882ba",
            "e60ae5674dfa4073b15995f6dcfd1335",
            "4a2b65dbba144fa489066384b89999cb",
            "25bbdd3b8dd84a3f8ef37d102874a9f9",
            "b21230a02cc74c94a5f5329c0480d843",
            "6224be26f8aa42c9b26cebe3368dd100",
            "c5aef6560c1440b1aa85b823df4ede34",
            "ef42984bfb0a4750925145b481c3c606",
            "dc2c42291d1247a3b7ef7ef8ec4c3c3e"
          ]
        },
        "outputId": "48a659be-d082-4912-db55-24c333c19299"
      },
      "execution_count": null,
      "outputs": [
        {
          "output_type": "stream",
          "name": "stdout",
          "text": [
            "Downloading https://www.cs.toronto.edu/~kriz/cifar-10-python.tar.gz to data/cifar-10-python.tar.gz\n"
          ]
        },
        {
          "output_type": "display_data",
          "data": {
            "text/plain": [
              "  0%|          | 0/170498071 [00:00<?, ?it/s]"
            ],
            "application/vnd.jupyter.widget-view+json": {
              "version_major": 2,
              "version_minor": 0,
              "model_id": "2bc23a5b866c458a82e587cea3753387"
            }
          },
          "metadata": {}
        },
        {
          "output_type": "stream",
          "name": "stdout",
          "text": [
            "Extracting data/cifar-10-python.tar.gz to data/\n"
          ]
        }
      ]
    },
    {
      "cell_type": "code",
      "source": [
        "device = torch.device('cuda:0') # using GPU\n",
        "model = torch.hub.load('pytorch/vision:v0.10.0', 'inception_v3', pretrained=True)\n",
        "model.to(device)\n",
        "model.eval()\n",
        "for param in model.parameters():\n",
        "    param.requires_grad = False"
      ],
      "metadata": {
        "colab": {
          "base_uri": "https://localhost:8080/",
          "height": 171,
          "referenced_widgets": [
            "6f5ef4fa6442433c98f78207c3c7f2cf",
            "b88898b2ed6b4cf1b8dfce5a031afbcf",
            "699b87ecd9084cb2b98f4a045a9c99fb",
            "a03ba87fb3344cb98efb837d71ce42d6",
            "bb38bdd0192b4cfc8bbbaaae98edbfbb",
            "8604e20d741d49479ff66ed274fa1637",
            "123eb0f9ed3e488d8f206f4659cf3d2b",
            "96142761b2f24a699982fe43452df0cc",
            "b6ce5e0a695e4c5ea4c8e89c782c5038",
            "7e96855abfee49db9f739f0d2197af19",
            "b7c56eecee404447a3890bc2257a693c"
          ]
        },
        "id": "g7JI8plamXWq",
        "outputId": "2746bf18-86a9-457b-a8b3-a1481d33fab5"
      },
      "execution_count": null,
      "outputs": [
        {
          "output_type": "stream",
          "name": "stderr",
          "text": [
            "Downloading: \"https://github.com/pytorch/vision/zipball/v0.10.0\" to /root/.cache/torch/hub/v0.10.0.zip\n",
            "/usr/local/lib/python3.7/dist-packages/torchvision/models/_utils.py:209: UserWarning: The parameter 'pretrained' is deprecated since 0.13 and will be removed in 0.15, please use 'weights' instead.\n",
            "  f\"The parameter '{pretrained_param}' is deprecated since 0.13 and will be removed in 0.15, \"\n",
            "/usr/local/lib/python3.7/dist-packages/torchvision/models/_utils.py:223: UserWarning: Arguments other than a weight enum or `None` for 'weights' are deprecated since 0.13 and will be removed in 0.15. The current behavior is equivalent to passing `weights=Inception_V3_Weights.IMAGENET1K_V1`. You can also use `weights=Inception_V3_Weights.DEFAULT` to get the most up-to-date weights.\n",
            "  warnings.warn(msg)\n",
            "Downloading: \"https://download.pytorch.org/models/inception_v3_google-0cc3c7bd.pth\" to /root/.cache/torch/hub/checkpoints/inception_v3_google-0cc3c7bd.pth\n"
          ]
        },
        {
          "output_type": "display_data",
          "data": {
            "text/plain": [
              "  0%|          | 0.00/104M [00:00<?, ?B/s]"
            ],
            "application/vnd.jupyter.widget-view+json": {
              "version_major": 2,
              "version_minor": 0,
              "model_id": "6f5ef4fa6442433c98f78207c3c7f2cf"
            }
          },
          "metadata": {}
        }
      ]
    },
    {
      "cell_type": "code",
      "source": [
        "program = torch.rand(num_channels, *pimg_size, device=device, requires_grad = True) #creating our adversarial program starting point by making a random tensor, which we will adjust later\n",
        "\n",
        "\n",
        "mask_pad = int((mask_size[0]-img_size[0])/2)\n",
        "\n",
        "mask = torch.zeros(num_channels, *img_size, device=device) # creating the mask\n",
        "mask = F.pad(mask, (0, pad, 0, pad), value=1)\n",
        "\n",
        "\n",
        "optimizer = torch.optim.Adam([program], lr=0.05) #the optimizer which optimizes our adversarial program\n",
        "lr_scheduler = torch.optim.lr_scheduler.StepLR(optimizer, step_size=2, gamma =0.96)# to adjust the learning rate as time goes on\n",
        "\n",
        "loss_criterion = nn.CrossEntropyLoss() # loss criterion\n",
        "\n",
        "\n",
        "num_classes = 10 # num classes for MNSIST"
      ],
      "metadata": {
        "id": "8QGtBrFAm9Rv"
      },
      "execution_count": null,
      "outputs": []
    },
    {
      "cell_type": "code",
      "source": [
        "transforms.ToPILImage()(mask.detach().cpu())"
      ],
      "metadata": {
        "colab": {
          "base_uri": "https://localhost:8080/",
          "height": 241
        },
        "id": "wFO0nj-FnFmN",
        "outputId": "292c105b-5e48-40b3-dea3-93d3661274b4"
      },
      "execution_count": null,
      "outputs": [
        {
          "output_type": "execute_result",
          "data": {
            "text/plain": [
              "<PIL.Image.Image image mode=RGB size=224x224 at 0x7F1B6A4DF190>"
            ],
            "image/png": "[encoded data removed]"
          },
          "metadata": {},
          "execution_count": 8
        }
      ]
    },
    {
      "cell_type": "code",
      "source": [
        "for data in train_loader:\n",
        "    images = data[0].to(device)\n",
        "    for i in images[0]:\n",
        "        asdf = i\n",
        "        break\n",
        "    break"
      ],
      "metadata": {
        "id": "pSNemTJJNxsa"
      },
      "execution_count": null,
      "outputs": []
    },
    {
      "cell_type": "code",
      "source": [
        "transforms.ToPILImage()(asdf.detach().cpu())"
      ],
      "metadata": {
        "colab": {
          "base_uri": "https://localhost:8080/",
          "height": 241
        },
        "id": "J853VqUNN0um",
        "outputId": "12976dd1-b066-476c-fd40-dbde6a833f37"
      },
      "execution_count": null,
      "outputs": [
        {
          "output_type": "execute_result",
          "data": {
            "text/plain": [
              "<PIL.Image.Image image mode=L size=224x224 at 0x7F1B69A48CD0>"
            ],
            "image/png": "[encoded data removed]"
          },
          "metadata": {},
          "execution_count": 10
        }
      ]
    },
    {
      "cell_type": "code",
      "source": [
        "#Training loop\n",
        "num_epochs = 20\n",
        "steps_per_epoch = len(train_loader)\n",
        "\n",
        "for epoch in range(num_epochs):\n",
        "\n",
        "    if epoch == 0:\n",
        "      print('Training has started')\n",
        "\n",
        "\n",
        "    total_loss = 0.0\n",
        "\n",
        "    for i, data in enumerate(train_loader):\n",
        "      images = data[0].to(device) #grabbing images from the data\n",
        "      labels = data[1].to(device) #grabbing labels from the data\n",
        "\n",
        "      images = images + torch.tanh(program*mask) #additive contribution to the image\n",
        "\n",
        "      outputs = model(images) # see what resnet classifies\n",
        "      outputs = outputs[:,:num_classes] #only care about first 10 cause MNIST only has 10 classes.\n",
        "\n",
        "      loss = loss_criterion(outputs, labels) # find loss\n",
        "      loss.backward() # backwards pass\n",
        "      optimizer.step() #update weights\n",
        "      optimizer.zero_grad()\n",
        "\n",
        "\n",
        "      total_loss += loss.item() #calculate total loss\n",
        "\n",
        "      if(i+1)%(steps_per_epoch/2) == 0:\n",
        "        print(f'Epoch {epoch+1}/{num_epochs},  Step {i+1}/{steps_per_epoch},  Loss:  {loss.item()},  Avg Loss for Epoch:  {total_loss/(i+1)}')\n",
        "    lr_scheduler.step() # adjusting learning rate"
      ],
      "metadata": {
        "colab": {
          "base_uri": "https://localhost:8080/"
        },
        "id": "QRlbc4HSOIdv",
        "outputId": "bc40d02a-fc98-4568-da21-36b3461d30d7"
      },
      "execution_count": null,
      "outputs": [
        {
          "output_type": "stream",
          "name": "stdout",
          "text": [
            "Training has started\n",
            "Epoch 1/20,  Step 1250/2500,  Loss:  1.5080654621124268,  Avg Loss for Epoch:  1.8856442170143128\n",
            "Epoch 1/20,  Step 2500/2500,  Loss:  1.5110949277877808,  Avg Loss for Epoch:  1.7683265078544617\n",
            "Epoch 2/20,  Step 1250/2500,  Loss:  1.4726181030273438,  Avg Loss for Epoch:  1.559734135055542\n",
            "Epoch 2/20,  Step 2500/2500,  Loss:  1.391950249671936,  Avg Loss for Epoch:  1.5333985775470733\n",
            "Epoch 3/20,  Step 1250/2500,  Loss:  1.3145709037780762,  Avg Loss for Epoch:  1.4807712861061095\n",
            "Epoch 3/20,  Step 2500/2500,  Loss:  1.3400521278381348,  Avg Loss for Epoch:  1.4737130031108856\n",
            "Epoch 4/20,  Step 1250/2500,  Loss:  1.3700437545776367,  Avg Loss for Epoch:  1.461430593776703\n",
            "Epoch 4/20,  Step 2500/2500,  Loss:  1.4329593181610107,  Avg Loss for Epoch:  1.455592224574089\n",
            "Epoch 5/20,  Step 1250/2500,  Loss:  1.4588369131088257,  Avg Loss for Epoch:  1.4424003604888915\n",
            "Epoch 5/20,  Step 2500/2500,  Loss:  1.7891252040863037,  Avg Loss for Epoch:  1.4464255179166794\n",
            "Epoch 6/20,  Step 1250/2500,  Loss:  1.6005783081054688,  Avg Loss for Epoch:  1.4390015179157256\n",
            "Epoch 6/20,  Step 2500/2500,  Loss:  1.3676676750183105,  Avg Loss for Epoch:  1.4402319191455841\n",
            "Epoch 7/20,  Step 1250/2500,  Loss:  1.250888466835022,  Avg Loss for Epoch:  1.4401622331619264\n",
            "Epoch 7/20,  Step 2500/2500,  Loss:  1.350064754486084,  Avg Loss for Epoch:  1.4353181035995484\n",
            "Epoch 8/20,  Step 1250/2500,  Loss:  1.5462558269500732,  Avg Loss for Epoch:  1.4357594783306122\n",
            "Epoch 8/20,  Step 2500/2500,  Loss:  1.3995848894119263,  Avg Loss for Epoch:  1.4323635056734085\n",
            "Epoch 9/20,  Step 1250/2500,  Loss:  1.4234154224395752,  Avg Loss for Epoch:  1.4305692909240724\n",
            "Epoch 9/20,  Step 2500/2500,  Loss:  1.6342861652374268,  Avg Loss for Epoch:  1.4293027410268784\n",
            "Epoch 10/20,  Step 1250/2500,  Loss:  1.5826832056045532,  Avg Loss for Epoch:  1.4293805377960205\n",
            "Epoch 10/20,  Step 2500/2500,  Loss:  1.5340567827224731,  Avg Loss for Epoch:  1.4273791549921035\n",
            "Epoch 11/20,  Step 1250/2500,  Loss:  1.3763395547866821,  Avg Loss for Epoch:  1.4286795621871948\n",
            "Epoch 11/20,  Step 2500/2500,  Loss:  1.1321877241134644,  Avg Loss for Epoch:  1.4254445270061493\n",
            "Epoch 12/20,  Step 1250/2500,  Loss:  1.2527806758880615,  Avg Loss for Epoch:  1.4289235461711884\n",
            "Epoch 12/20,  Step 2500/2500,  Loss:  1.5179555416107178,  Avg Loss for Epoch:  1.4235267606019975\n",
            "Epoch 13/20,  Step 1250/2500,  Loss:  1.8152319192886353,  Avg Loss for Epoch:  1.4236129536151887\n",
            "Epoch 13/20,  Step 2500/2500,  Loss:  1.583191156387329,  Avg Loss for Epoch:  1.4225930104017257\n",
            "Epoch 14/20,  Step 1250/2500,  Loss:  1.6992197036743164,  Avg Loss for Epoch:  1.4204549411296845\n",
            "Epoch 14/20,  Step 2500/2500,  Loss:  1.798046350479126,  Avg Loss for Epoch:  1.421326412320137\n",
            "Epoch 15/20,  Step 1250/2500,  Loss:  1.2052810192108154,  Avg Loss for Epoch:  1.421027165031433\n",
            "Epoch 15/20,  Step 2500/2500,  Loss:  1.6025450229644775,  Avg Loss for Epoch:  1.4197571088314056\n",
            "Epoch 16/20,  Step 1250/2500,  Loss:  1.3161779642105103,  Avg Loss for Epoch:  1.4152489867687226\n",
            "Epoch 16/20,  Step 2500/2500,  Loss:  1.6118755340576172,  Avg Loss for Epoch:  1.419028120303154\n",
            "Epoch 17/20,  Step 1250/2500,  Loss:  1.3022511005401611,  Avg Loss for Epoch:  1.4173654699325562\n",
            "Epoch 17/20,  Step 2500/2500,  Loss:  1.2091388702392578,  Avg Loss for Epoch:  1.41797691590786\n",
            "Epoch 18/20,  Step 1250/2500,  Loss:  1.5376310348510742,  Avg Loss for Epoch:  1.41514104013443\n",
            "Epoch 18/20,  Step 2500/2500,  Loss:  1.178618311882019,  Avg Loss for Epoch:  1.417734240603447\n",
            "Epoch 19/20,  Step 1250/2500,  Loss:  1.5105869770050049,  Avg Loss for Epoch:  1.4169878779888152\n",
            "Epoch 19/20,  Step 2500/2500,  Loss:  1.4178168773651123,  Avg Loss for Epoch:  1.4166677005052566\n",
            "Epoch 20/20,  Step 1250/2500,  Loss:  0.9061919450759888,  Avg Loss for Epoch:  1.418140064382553\n",
            "Epoch 20/20,  Step 2500/2500,  Loss:  1.402977466583252,  Avg Loss for Epoch:  1.4158749166250229\n"
          ]
        }
      ]
    },
    {
      "cell_type": "code",
      "source": [
        "# testing\n",
        "with torch.no_grad():\n",
        "\n",
        "  total_loss = 0.0\n",
        "  total_steps = len(test_loader)\n",
        "  total = 0\n",
        "  total_correct = 0\n",
        "\n",
        "\n",
        "  for data in test_loader:\n",
        "      images = data[0].to(device)\n",
        "      labels = data[1].to(device)\n",
        "\n",
        "      images = images + torch.tanh(program*mask)\n",
        "      outputs = model(images)\n",
        "      outputs = outputs[:,:num_classes]\n",
        "\n",
        "      preds = torch.argmax(torch.softmax(outputs, dim =1), dim = 1) #grabs index of highest pred\n",
        "\n",
        "      total_correct += torch.sum(preds==labels).item()\n",
        "      total+= labels.shape[0]\n"
      ],
      "metadata": {
        "id": "zmlb6y0ykyDZ"
      },
      "execution_count": null,
      "outputs": []
    },
    {
      "cell_type": "code",
      "source": [
        "acc = (total_correct/total) * 100.0\n",
        "print(f'Accuracy: {acc:.4f}')"
      ],
      "metadata": {
        "colab": {
          "base_uri": "https://localhost:8080/"
        },
        "id": "yzURstX_lnxk",
        "outputId": "5802fb99-c77e-4389-e812-8da4536b4967"
      },
      "execution_count": null,
      "outputs": [
        {
          "output_type": "stream",
          "name": "stdout",
          "text": [
            "Accuracy: 48.4500\n"
          ]
        }
      ]
    }
  ]
}